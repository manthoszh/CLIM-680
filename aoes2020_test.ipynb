{
 "cells": [
  {
   "cell_type": "code",
   "execution_count": 1,
   "metadata": {},
   "outputs": [],
   "source": [
    "import numpy as np\n",
    "import xarray as xr\n",
    "import matplotlib.pyplot as plt\n",
    "import cartopy.crs as ccrs"
   ]
  },
  {
   "cell_type": "code",
   "execution_count": 4,
   "metadata": {},
   "outputs": [
    {
     "name": "stdout",
     "output_type": "stream",
     "text": [
      "<xarray.Dataset>\n",
      "Dimensions:         (bnds: 2, latitude: 180, longitude: 360, time: 8647)\n",
      "Coordinates:\n",
      "  * longitude       (longitude) float32 0.0 1.0 2.0 3.0 ... 357.0 358.0 359.0\n",
      "  * latitude        (latitude) float32 -90.0 -89.0 -88.0 ... 87.0 88.0 89.0\n",
      "  * time            (time) datetime64[ns] 1996-10-01 1996-10-02 ... 2020-05-31\n",
      "Dimensions without coordinates: bnds\n",
      "Data variables:\n",
      "    longitude_bnds  (time, longitude, bnds) float32 dask.array<chunksize=(92, 360, 2), meta=np.ndarray>\n",
      "    latitude_bnds   (time, latitude, bnds) float32 dask.array<chunksize=(92, 180, 2), meta=np.ndarray>\n",
      "    time_bnds       (time, bnds) datetime64[ns] dask.array<chunksize=(92, 2), meta=np.ndarray>\n",
      "    precip          (time, latitude, longitude) float32 dask.array<chunksize=(92, 180, 360), meta=np.ndarray>\n",
      "Attributes:\n",
      "    CDI:                        Climate Data Interface version 1.8.2 (http://...\n",
      "    history:                    Thu Sep 17 20:06:27 2020: cdo cat /scratch/zm...\n",
      "    source:                     /data1/GPCP_CDR/GPCP_Output/1DD//bin/199610/s...\n",
      "    institution:                ACADEMIC > UMD/ESSIC > Earth System Science I...\n",
      "    Conventions:                CF-1.6, ACDD 1.3\n",
      "    title:                      Global Precipitation Climatatology Project (G...\n",
      "    references:                 Huffman et al. 1997, http://dx.doi.org/10.117...\n",
      "    Metadata_Conventions:       CF-1.6, Unidata Dataset Discovery v1.0, NOAA ...\n",
      "    standard_name_vocabulary:   CF Standard Name Table (v41, 22 February 2017)\n",
      "    id:                         199610/gpcp_v01r03_daily_d19961001_c20170530.nc\n",
      "    naming_authority:           gov.noaa.ncdc\n",
      "    date_created:               2017-05-30T16:52:42Z\n",
      "    license:                    No constraints on data access or use.\n",
      "    summary:                    Global Precipitation Climatology Project (GPC...\n",
      "    keywords:                   EARTH SCIENCE > ATMOSPHERE > PRECIPITATION > ...\n",
      "    keywords_vocabulary:        NASA Global Change Master Directory (GCMD) Ea...\n",
      "    cdm_data_type:              Grid\n",
      "    project:                    GPCP > Global Precipitation Climatology Project\n",
      "    processing_level:           NASA Level 3\n",
      "    creator_name:               Dr. Jian-Jian Wang\n",
      "    creator_email:              jjwang@umd.edu\n",
      "    publisher_name:             NOAA National Centers for Environmental Infor...\n",
      "    publisher_email:            jjwang@umd.edu\n",
      "    publisher_url:              https://www.ncei.noaa.gov\n",
      "    geospatial_lat_min:         -90.0\n",
      "    geospatial_lat_max:         90.0\n",
      "    geospatial_lat_units:       degrees_north\n",
      "    geospatial_lat_resolution:  1 degree\n",
      "    geospatial_lon_min:         0.0\n",
      "    geospatial_lon_max:         360.0\n",
      "    geospatial_lon_units:       degrees_east\n",
      "    geospatial_lon_resolution:  1 degree\n",
      "    time_coverage_start:        1996-10-01T00:00:00Z\n",
      "    time_coverage_end:          1996-10-01T23:59:59Z\n",
      "    time_coverage_duration:     P1D\n",
      "    contributor_name:           Robert Adler, Jian-Jian Wang\n",
      "    contributor_role:           principalInvestigator, processor and custodian\n",
      "    acknowledgment:             This project was supported in part by a grant...\n",
      "    cdr_program:                NOAA Climate Data Record Program for satellit...\n",
      "    cdr_variable:               precipitation\n",
      "    metadata_link:              gov.noaa.ncdc:XXXXX\n",
      "    product_version:            v01r03\n",
      "    platform:                   GOES (Geostationary Operational Environmental...\n",
      "    sensor:                     Imager, TOVS > TIROS Operational Vertical Sou...\n",
      "    spatial_resolution:         1 degree\n",
      "    comment:                    Processing computer: eagle2.umd.edu\n",
      "    CDO:                        Climate Data Operators version 1.8.2 (http://...\n"
     ]
    }
   ],
   "source": [
    "path = '/scratch/zmanthos/GPCP/'\n",
    "file = 'gpcp_v01r03_daily.*.nc'\n",
    "files = path+file\n",
    "data = xr.open_mfdataset(files,concat_dim='time',combine='nested',decode_times=True,decode_cf=True)\n",
    "print(data)"
   ]
  },
  {
   "cell_type": "code",
   "execution_count": null,
   "metadata": {},
   "outputs": [],
   "source": []
  }
 ],
 "metadata": {
  "kernelspec": {
   "display_name": "Python (aoes2020)",
   "language": "python",
   "name": "aoes2020"
  },
  "language_info": {
   "codemirror_mode": {
    "name": "ipython",
    "version": 3
   },
   "file_extension": ".py",
   "mimetype": "text/x-python",
   "name": "python",
   "nbconvert_exporter": "python",
   "pygments_lexer": "ipython3",
   "version": "3.8.6"
  }
 },
 "nbformat": 4,
 "nbformat_minor": 4
}
